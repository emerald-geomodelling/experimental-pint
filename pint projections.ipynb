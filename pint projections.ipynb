{
 "cells": [
  {
   "cell_type": "code",
   "execution_count": 27,
   "id": "122b5ab2",
   "metadata": {},
   "outputs": [],
   "source": [
    "import pint\n",
    "import pyproj\n",
    "import projnames\n",
    "import geopandas as gpd\n",
    "import pandas as pd\n",
    "import numpy as np\n",
    "import pint_pandas\n",
    "ureg = pint.get_application_registry() #pint.UnitRegistry()"
   ]
  },
  {
   "cell_type": "code",
   "execution_count": 28,
   "id": "1af5d4c4",
   "metadata": {},
   "outputs": [],
   "source": [
    "epsgs = list(projnames.by_epsg.keys()) + [4326]"
   ]
  },
  {
   "cell_type": "code",
   "execution_count": 29,
   "id": "deec68e5",
   "metadata": {},
   "outputs": [],
   "source": [
    "for epsg in epsgs:\n",
    "    ureg.define('epsg_%s = [epsg_%s]; offset: 1 = _' % (epsg, epsg))"
   ]
  },
  {
   "cell_type": "code",
   "execution_count": 30,
   "id": "b6048fad",
   "metadata": {},
   "outputs": [],
   "source": [
    "ureg.define('@alias epsg_4326 = latlon')"
   ]
  },
  {
   "cell_type": "code",
   "execution_count": 31,
   "id": "96f9c495",
   "metadata": {},
   "outputs": [],
   "source": [
    "class C(object):\n",
    "    def __init__(self, x, y):\n",
    "        self.x = x\n",
    "        self.y = y\n",
    "    def __sub__(self, other):\n",
    "        if not isinstance(other, C): return self\n",
    "        return C(self.x - other.x, self.y - other.y)\n",
    "    def __mul__(self, other):\n",
    "        return C(self.x * other, self.y * other)\n",
    "    def __truediv__(self, other):\n",
    "        return C(self.x / other, self.y / other)\n",
    "    def __add__(self, other):\n",
    "        if not isinstance(other, C): return self\n",
    "        return C(self.x + other.x, self.y + other.y)\n",
    "    def __format__(self, format_spec):\n",
    "        return str(self.x) + \";\" + str(self.y)\n",
    "    def __repr__(self):\n",
    "        return str(self.x) + \";\" + str(self.y)\n",
    "    "
   ]
  },
  {
   "cell_type": "code",
   "execution_count": 32,
   "id": "eeda38a4",
   "metadata": {},
   "outputs": [],
   "source": [
    "def register_epsg(epsg, c):\n",
    "    def tolatlon(ureg, x):\n",
    "        return ureg.Quantity(\n",
    "            C(*pyproj.Transformer.from_crs(\n",
    "                         epsg, 4326, always_xy=True).transform(x.m.x, x.m.y)), \"latlon\")\n",
    "    def fromlatlon(ureg, x):\n",
    "        return ureg.Quantity(\n",
    "            C(*pyproj.Transformer.from_crs(\n",
    "                         4326, epsg, always_xy=True).transform(x.m.x, x.m.y)), \"epsg_%s\" % epsg)\n",
    "\n",
    "    c.add_transformation(\"epsg_%s\" % epsg, 'latlon', tolatlon)\n",
    "    c.add_transformation(\"latlon\", \"epsg_%s\" % epsg, fromlatlon)\n",
    "\n",
    "    if (epsg in projnames.by_epsg) and (\"UTM\" in projnames.by_epsg[epsg]):\n",
    "        c.add_transformation(\"delta_epsg_%s\" % epsg, 'm',\n",
    "                             lambda ureg, x: ureg.Quantity((x.m.x**2+x.m.y**2)**0.5, \"m\"))\n",
    "\n",
    "c = pint.Context('maps')\n",
    "for epsg in epsgs:\n",
    "    register_epsg(epsg, c)\n",
    "\n",
    "ureg.add_context(c)"
   ]
  },
  {
   "cell_type": "code",
   "execution_count": 33,
   "id": "f15e62a8",
   "metadata": {},
   "outputs": [],
   "source": [
    "p1 = ureg.Quantity(C(15, 2), \"epsg_32611\")\n",
    "p2 = ureg.Quantity(C(2, 1), \"epsg_32611\")\n",
    "d = p1 - p2"
   ]
  },
  {
   "cell_type": "code",
   "execution_count": 34,
   "id": "9caee8bc",
   "metadata": {},
   "outputs": [
    {
     "data": {
      "text/html": [
       "-121.48860949942477;1.8038754962662663e-05 epsg_4326"
      ],
      "text/latex": [
       "$-121.48860949942477;1.8038754962662663\\times 10^{-5}\\ \\mathrm{epsg\\_4326}$"
      ],
      "text/plain": [
       "-121.48860949942477;1.8038754962662663e-05 <Unit('epsg_4326')>"
      ]
     },
     "execution_count": 34,
     "metadata": {},
     "output_type": "execute_result"
    }
   ],
   "source": [
    "p1.to(\"latlon\", \"maps\")"
   ]
  },
  {
   "cell_type": "code",
   "execution_count": 35,
   "id": "234c9293",
   "metadata": {},
   "outputs": [
    {
     "data": {
      "text/html": [
       "13.038404810405298 meter"
      ],
      "text/latex": [
       "$13.038404810405298\\ \\mathrm{meter}$"
      ],
      "text/plain": [
       "13.038404810405298 <Unit('meter')>"
      ]
     },
     "execution_count": 35,
     "metadata": {},
     "output_type": "execute_result"
    }
   ],
   "source": [
    "d.to(\"m\", \"maps\")"
   ]
  },
  {
   "cell_type": "code",
   "execution_count": 36,
   "id": "67ecd610",
   "metadata": {},
   "outputs": [],
   "source": [
    "p3 = ureg.Quantity(C(72, 10), \"latlon\")\n",
    "p4 = ureg.Quantity(C(73, 9), \"latlon\")"
   ]
  },
  {
   "cell_type": "code",
   "execution_count": 37,
   "id": "0aa2749a",
   "metadata": {},
   "outputs": [
    {
     "data": {
      "text/html": [
       "20719663.977746077 meter"
      ],
      "text/latex": [
       "$20719663.977746077\\ \\mathrm{meter}$"
      ],
      "text/plain": [
       "20719663.977746077 <Unit('meter')>"
      ]
     },
     "execution_count": 37,
     "metadata": {},
     "output_type": "execute_result"
    }
   ],
   "source": [
    "(p4 - p3).to(\"m\", \"maps\")"
   ]
  },
  {
   "cell_type": "code",
   "execution_count": 38,
   "id": "30289a52",
   "metadata": {},
   "outputs": [],
   "source": [
    "df = pd.DataFrame({\n",
    "     \"p\": pd.Series([p1, p2], dtype=pint_pandas.pint_array.PintType(p1.u))\n",
    "})"
   ]
  },
  {
   "cell_type": "code",
   "execution_count": 44,
   "id": "d166008c",
   "metadata": {},
   "outputs": [
    {
     "data": {
      "text/html": [
       "<div>\n",
       "<style scoped>\n",
       "    .dataframe tbody tr th:only-of-type {\n",
       "        vertical-align: middle;\n",
       "    }\n",
       "\n",
       "    .dataframe tbody tr th {\n",
       "        vertical-align: top;\n",
       "    }\n",
       "\n",
       "    .dataframe thead th {\n",
       "        text-align: right;\n",
       "    }\n",
       "</style>\n",
       "<table border=\"1\" class=\"dataframe\">\n",
       "  <thead>\n",
       "    <tr style=\"text-align: right;\">\n",
       "      <th></th>\n",
       "      <th>p</th>\n",
       "    </tr>\n",
       "  </thead>\n",
       "  <tbody>\n",
       "    <tr>\n",
       "      <th>0</th>\n",
       "      <td>15;2</td>\n",
       "    </tr>\n",
       "    <tr>\n",
       "      <th>1</th>\n",
       "      <td>2;1</td>\n",
       "    </tr>\n",
       "  </tbody>\n",
       "</table>\n",
       "</div>"
      ],
      "text/plain": [
       "      p\n",
       "0  15;2\n",
       "1   2;1"
      ]
     },
     "execution_count": 44,
     "metadata": {},
     "output_type": "execute_result"
    }
   ],
   "source": [
    "df"
   ]
  },
  {
   "cell_type": "code",
   "execution_count": 41,
   "id": "56f3b12e",
   "metadata": {},
   "outputs": [
    {
     "data": {
      "text/html": [
       "-121.48860949942477;1.8038754962662663e-05 epsg_4326"
      ],
      "text/latex": [
       "$-121.48860949942477;1.8038754962662663\\times 10^{-5}\\ \\mathrm{epsg\\_4326}$"
      ],
      "text/plain": [
       "-121.48860949942477;1.8038754962662663e-05 <Unit('epsg_4326')>"
      ]
     },
     "execution_count": 41,
     "metadata": {},
     "output_type": "execute_result"
    }
   ],
   "source": [
    "df.p.loc[0].to(\"latlon\", \"maps\")"
   ]
  },
  {
   "cell_type": "code",
   "execution_count": 45,
   "id": "c84e73a2",
   "metadata": {},
   "outputs": [],
   "source": [
    "df = pd.DataFrame({\n",
    "     \"p\": pd.Series([1, 2, 3], dtype=\"pint[m]\")\n",
    "})"
   ]
  },
  {
   "cell_type": "code",
   "execution_count": 50,
   "id": "75b1664b",
   "metadata": {},
   "outputs": [
    {
     "data": {
      "text/plain": [
       "dtype('int64')"
      ]
     },
     "execution_count": 50,
     "metadata": {},
     "output_type": "execute_result"
    }
   ],
   "source": [
    "df.p.values._data.dtype"
   ]
  },
  {
   "cell_type": "code",
   "execution_count": null,
   "id": "7e08ef4b",
   "metadata": {},
   "outputs": [],
   "source": []
  }
 ],
 "metadata": {
  "kernelspec": {
   "display_name": "emerald-interpret-gui",
   "language": "python",
   "name": "emerald-interpret-gui"
  },
  "language_info": {
   "codemirror_mode": {
    "name": "ipython",
    "version": 3
   },
   "file_extension": ".py",
   "mimetype": "text/x-python",
   "name": "python",
   "nbconvert_exporter": "python",
   "pygments_lexer": "ipython3",
   "version": "3.9.12"
  }
 },
 "nbformat": 4,
 "nbformat_minor": 5
}
