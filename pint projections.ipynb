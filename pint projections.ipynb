{
 "cells": [
  {
   "cell_type": "code",
   "execution_count": 27,
   "id": "c63acf79",
   "metadata": {},
   "outputs": [],
   "source": [
    "import pint\n",
    "import pyproj\n",
    "import projnames\n",
    "import geopandas as gpd\n",
    "import pandas as pd\n",
    "import numpy as np\n",
    "import pint_pandas\n",
    "ureg = pint.get_application_registry() #pint.UnitRegistry()"
   ]
  },
  {
   "cell_type": "code",
   "execution_count": 28,
   "id": "7c0a02ac",
   "metadata": {},
   "outputs": [],
   "source": [
    "epsgs = list(projnames.by_epsg.keys()) + [4326]"
   ]
  },
  {
   "cell_type": "code",
   "execution_count": 29,
   "id": "c0c234a3",
   "metadata": {},
   "outputs": [],
   "source": [
    "for epsg in epsgs:\n",
    "    ureg.define('epsg_%s = [epsg_%s]; offset: 1 = _' % (epsg, epsg))"
   ]
  },
  {
   "cell_type": "code",
   "execution_count": 30,
   "id": "1aa00849",
   "metadata": {},
   "outputs": [],
   "source": [
    "ureg.define('@alias epsg_4326 = latlon')"
   ]
  },
  {
   "cell_type": "code",
   "execution_count": 31,
   "id": "f5460594",
   "metadata": {},
   "outputs": [],
   "source": [
    "class C(object):\n",
    "    def __init__(self, x, y):\n",
    "        self.x = x\n",
    "        self.y = y\n",
    "    def __sub__(self, other):\n",
    "        if not isinstance(other, C): return self\n",
    "        return C(self.x - other.x, self.y - other.y)\n",
    "    def __mul__(self, other):\n",
    "        return C(self.x * other, self.y * other)\n",
    "    def __truediv__(self, other):\n",
    "        return C(self.x / other, self.y / other)\n",
    "    def __add__(self, other):\n",
    "        if not isinstance(other, C): return self\n",
    "        return C(self.x + other.x, self.y + other.y)\n",
    "    def __format__(self, format_spec):\n",
    "        return str(self.x) + \";\" + str(self.y)\n",
    "    def __repr__(self):\n",
    "        return str(self.x) + \";\" + str(self.y)\n",
    "    "
   ]
  },
  {
   "cell_type": "code",
   "execution_count": 110,
   "id": "d7c9e16a",
   "metadata": {},
   "outputs": [],
   "source": [
    "def register_epsg(epsg, c):\n",
    "    def tolatlon(ureg, q):\n",
    "        if isinstance(q.m, np.ndarray):\n",
    "            x = np.vectorize(lambda item: item.x)(q)\n",
    "            y = np.vectorize(lambda item: item.y)(q)\n",
    "            return ureg.Quantity(\n",
    "                np.array([C(*item) for item in zip(\n",
    "                    *pyproj.Transformer.from_crs(\n",
    "                        epsg, 4326, always_xy=True).transform(x, y))]),\n",
    "                \"latlon\")\n",
    "        return ureg.Quantity(\n",
    "            C(*pyproj.Transformer.from_crs(\n",
    "                         epsg, 4326, always_xy=True).transform(q.m.x, q.m.y)), \"latlon\")\n",
    "    def fromlatlon(ureg, q):\n",
    "        if isinstance(q.m, np.ndarray):\n",
    "            x = np.vectorize(lambda item: item.x)(q)\n",
    "            y = np.vectorize(lambda item: item.y)(q)\n",
    "            return ureg.Quantity(\n",
    "                np.array([C(*item) for item in zip(\n",
    "                    *pyproj.Transformer.from_crs(\n",
    "                        4326, epsg, always_xy=True).transform(x, y))]),\n",
    "                \"epsg_%s\" % epsg)\n",
    "        return ureg.Quantity(\n",
    "            C(*pyproj.Transformer.from_crs(\n",
    "                         4326, epsg, always_xy=True).transform(q.m.x, q.m.y)), \"epsg_%s\" % epsg)\n",
    "\n",
    "    c.add_transformation(\"epsg_%s\" % epsg, 'latlon', tolatlon)\n",
    "    c.add_transformation(\"latlon\", \"epsg_%s\" % epsg, fromlatlon)\n",
    "\n",
    "    if (epsg in projnames.by_epsg) and (\"UTM\" in projnames.by_epsg[epsg]):\n",
    "        def tom(ureg, q):\n",
    "            if isinstance(q, np.ndarray):\n",
    "                x = np.vectorize(lambda item: item.x)(q)\n",
    "                y = np.vectorize(lambda item: item.y)(q)\n",
    "                return ureg.Quantity((x**2+y**2)**0.5, \"m\")\n",
    "            return ureg.Quantity((q.m.x**2+q.m.y**2)**0.5, \"m\")\n",
    "        c.add_transformation(\"delta_epsg_%s\" % epsg, 'm', tom)\n",
    "\n",
    "c = pint.Context('maps')\n",
    "for epsg in epsgs:\n",
    "    register_epsg(epsg, c)\n",
    "\n",
    "ureg.add_context(c)"
   ]
  },
  {
   "cell_type": "code",
   "execution_count": 111,
   "id": "f8bc9a17",
   "metadata": {},
   "outputs": [],
   "source": [
    "p1 = ureg.Quantity(C(15, 2), \"epsg_32611\")\n",
    "p2 = ureg.Quantity(C(2, 1), \"epsg_32611\")\n",
    "d = p1 - p2"
   ]
  },
  {
   "cell_type": "code",
   "execution_count": 112,
   "id": "3b6499e7",
   "metadata": {},
   "outputs": [
    {
     "data": {
      "text/html": [
       "-121.48860949942477;1.8038754962662663e-05 epsg_4326"
      ],
      "text/latex": [
       "$-121.48860949942477;1.8038754962662663\\times 10^{-5}\\ \\mathrm{epsg\\_4326}$"
      ],
      "text/plain": [
       "-121.48860949942477;1.8038754962662663e-05 <Unit('epsg_4326')>"
      ]
     },
     "execution_count": 112,
     "metadata": {},
     "output_type": "execute_result"
    }
   ],
   "source": [
    "p1.to(\"latlon\", \"maps\")"
   ]
  },
  {
   "cell_type": "code",
   "execution_count": 113,
   "id": "4a102b7b",
   "metadata": {},
   "outputs": [
    {
     "data": {
      "text/html": [
       "13.038404810405298 meter"
      ],
      "text/latex": [
       "$13.038404810405298\\ \\mathrm{meter}$"
      ],
      "text/plain": [
       "13.038404810405298 <Unit('meter')>"
      ]
     },
     "execution_count": 113,
     "metadata": {},
     "output_type": "execute_result"
    }
   ],
   "source": [
    "d.to(\"m\", \"maps\")"
   ]
  },
  {
   "cell_type": "code",
   "execution_count": 114,
   "id": "2b06c14f",
   "metadata": {},
   "outputs": [],
   "source": [
    "p3 = ureg.Quantity(C(72, 10), \"latlon\")\n",
    "p4 = ureg.Quantity(C(73, 9), \"latlon\")"
   ]
  },
  {
   "cell_type": "code",
   "execution_count": 115,
   "id": "018b93c8",
   "metadata": {},
   "outputs": [
    {
     "data": {
      "text/html": [
       "20719663.977746077 meter"
      ],
      "text/latex": [
       "$20719663.977746077\\ \\mathrm{meter}$"
      ],
      "text/plain": [
       "20719663.977746077 <Unit('meter')>"
      ]
     },
     "execution_count": 115,
     "metadata": {},
     "output_type": "execute_result"
    }
   ],
   "source": [
    "(p4 - p3).to(\"m\", \"maps\")"
   ]
  },
  {
   "cell_type": "code",
   "execution_count": 116,
   "id": "a18f054d",
   "metadata": {},
   "outputs": [],
   "source": [
    "df = pd.DataFrame({\n",
    "     \"p\": pd.Series([p1, p2], dtype=pint_pandas.pint_array.PintType(p1.u))\n",
    "})"
   ]
  },
  {
   "cell_type": "code",
   "execution_count": 117,
   "id": "7ac3fe97",
   "metadata": {},
   "outputs": [
    {
     "data": {
      "text/html": [
       "<div>\n",
       "<style scoped>\n",
       "    .dataframe tbody tr th:only-of-type {\n",
       "        vertical-align: middle;\n",
       "    }\n",
       "\n",
       "    .dataframe tbody tr th {\n",
       "        vertical-align: top;\n",
       "    }\n",
       "\n",
       "    .dataframe thead th {\n",
       "        text-align: right;\n",
       "    }\n",
       "</style>\n",
       "<table border=\"1\" class=\"dataframe\">\n",
       "  <thead>\n",
       "    <tr style=\"text-align: right;\">\n",
       "      <th></th>\n",
       "      <th>p</th>\n",
       "    </tr>\n",
       "  </thead>\n",
       "  <tbody>\n",
       "    <tr>\n",
       "      <th>0</th>\n",
       "      <td>15;2</td>\n",
       "    </tr>\n",
       "    <tr>\n",
       "      <th>1</th>\n",
       "      <td>2;1</td>\n",
       "    </tr>\n",
       "  </tbody>\n",
       "</table>\n",
       "</div>"
      ],
      "text/plain": [
       "      p\n",
       "0  15;2\n",
       "1   2;1"
      ]
     },
     "execution_count": 117,
     "metadata": {},
     "output_type": "execute_result"
    }
   ],
   "source": [
    "df"
   ]
  },
  {
   "cell_type": "code",
   "execution_count": 118,
   "id": "bb953e72",
   "metadata": {},
   "outputs": [
    {
     "data": {
      "text/html": [
       "-121.48860949942477;1.8038754962662663e-05 epsg_4326"
      ],
      "text/latex": [
       "$-121.48860949942477;1.8038754962662663\\times 10^{-5}\\ \\mathrm{epsg\\_4326}$"
      ],
      "text/plain": [
       "-121.48860949942477;1.8038754962662663e-05 <Unit('epsg_4326')>"
      ]
     },
     "execution_count": 118,
     "metadata": {},
     "output_type": "execute_result"
    }
   ],
   "source": [
    "df.p.loc[0].to(\"latlon\", \"maps\")"
   ]
  },
  {
   "cell_type": "code",
   "execution_count": 119,
   "id": "17221714",
   "metadata": {},
   "outputs": [
    {
     "name": "stderr",
     "output_type": "stream",
     "text": [
      "/home/redhog/Projects/Emerald/emerald-interpret-gui/env/lib/python3.9/site-packages/numpy/lib/function_base.py:2336: UnitStrippedWarning: The unit of the quantity is stripped when downcasting to ndarray.\n",
      "  args = [asarray(arg) for arg in args]\n",
      "/home/redhog/Projects/Emerald/emerald-interpret-gui/env/lib/python3.9/site-packages/numpy/lib/function_base.py:2385: UnitStrippedWarning: The unit of the quantity is stripped when downcasting to ndarray.\n",
      "  inputs = [asanyarray(a, dtype=object) for a in args]\n"
     ]
    },
    {
     "data": {
      "text/html": [
       "<table><tbody><tr><th>Magnitude</th><td style='text-align:left;'><pre>[-121.48860949942477;1.8038754962662663e-05<br> -121.48872596639367;9.019376032304302e-06]</pre></td></tr><tr><th>Units</th><td style='text-align:left;'>epsg_4326</td></tr></tbody></table>"
      ],
      "text/latex": [
       "$\\begin{pmatrix}-121.48860949942477;1.8038754962662663\\times 10^{-5} & -121.48872596639367;9.019376032304302\\times 10^{-6}\\end{pmatrix}\\ \\mathrm{epsg\\_4326}$"
      ],
      "text/plain": [
       "array([-121.48860949942477;1.8038754962662663e-05,\n",
       "       -121.48872596639367;9.019376032304302e-06], dtype=object) <Unit('epsg_4326')>"
      ]
     },
     "execution_count": 119,
     "metadata": {},
     "output_type": "execute_result"
    }
   ],
   "source": [
    "ureg.Quantity(df.p.values._data, df.p.dtype.units).to(\"latlon\", \"maps\")"
   ]
  },
  {
   "cell_type": "code",
   "execution_count": null,
   "id": "6963a22b",
   "metadata": {},
   "outputs": [],
   "source": []
  }
 ],
 "metadata": {
  "kernelspec": {
   "display_name": "emerald-interpret-gui",
   "language": "python",
   "name": "emerald-interpret-gui"
  },
  "language_info": {
   "codemirror_mode": {
    "name": "ipython",
    "version": 3
   },
   "file_extension": ".py",
   "mimetype": "text/x-python",
   "name": "python",
   "nbconvert_exporter": "python",
   "pygments_lexer": "ipython3",
   "version": "3.9.12"
  }
 },
 "nbformat": 4,
 "nbformat_minor": 5
}
